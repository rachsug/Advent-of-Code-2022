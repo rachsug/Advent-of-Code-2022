{
 "cells": [
  {
   "cell_type": "code",
   "execution_count": 102,
   "metadata": {},
   "outputs": [
    {
     "data": {
      "text/plain": [
       "909"
      ]
     },
     "execution_count": 102,
     "metadata": {},
     "output_type": "execute_result"
    }
   ],
   "source": [
    "def campCleanup(txt_file):\n",
    "    count = 0\n",
    "    with open(txt_file) as f:\n",
    "        lines = f.readlines()\n",
    "\n",
    "    for i in range(len(lines)):\n",
    "        lines[i] = lines[i].replace('\\n','').replace('-', ' ').replace(',', ' ').split(' ')\n",
    "        #--------------SOLUTION_1--------------\n",
    "#         if (int(lines[i][0]) <= int(lines[i][2]) and int(lines[i][1]) >= int(lines[i][3])):\n",
    "#             count += 1\n",
    "#             continue\n",
    "#         if (int(lines[i][0]) >= int(lines[i][2]) and int(lines[i][1]) <= int(lines[i][3])):\n",
    "#             count += 1\n",
    "\n",
    "        #--------------SOLUTION_2--------------\n",
    "        if (int(lines[i][2]) >= int(lines[i][0])) and (int(lines[i][2]) <= int(lines[i][1])):\n",
    "            count += 1\n",
    "            continue\n",
    "        if (int(lines[i][3]) >= int(lines[i][0])) and (int(lines[i][2]) <= int(lines[i][1])):\n",
    "            count += 1\n",
    "            continue\n",
    "        \n",
    "    return count\n",
    "\n",
    "txt_file = 'AOC_day4_input.txt'\n",
    "\n",
    "campCleanup(txt_file)"
   ]
  },
  {
   "cell_type": "code",
   "execution_count": null,
   "metadata": {},
   "outputs": [],
   "source": []
  },
  {
   "cell_type": "code",
   "execution_count": 85,
   "metadata": {},
   "outputs": [
    {
     "ename": "SyntaxError",
     "evalue": "invalid syntax (<ipython-input-85-d0bdbd0318f2>, line 1)",
     "output_type": "error",
     "traceback": [
      "\u001b[1;36m  File \u001b[1;32m\"<ipython-input-85-d0bdbd0318f2>\"\u001b[1;36m, line \u001b[1;32m1\u001b[0m\n\u001b[1;33m    2 8, 3 7\u001b[0m\n\u001b[1;37m      ^\u001b[0m\n\u001b[1;31mSyntaxError\u001b[0m\u001b[1;31m:\u001b[0m invalid syntax\n"
     ]
    }
   ],
   "source": [
    "2 8, 3 7\n",
    "3 7, 2 8\n",
    "5 6, 4 6\n",
    "['34', '35', '5', '34']\n",
    "['6', '53', '53', '86']"
   ]
  },
  {
   "cell_type": "code",
   "execution_count": null,
   "metadata": {},
   "outputs": [],
   "source": []
  }
 ],
 "metadata": {
  "kernelspec": {
   "display_name": "Python 3",
   "language": "python",
   "name": "python3"
  },
  "language_info": {
   "codemirror_mode": {
    "name": "ipython",
    "version": 3
   },
   "file_extension": ".py",
   "mimetype": "text/x-python",
   "name": "python",
   "nbconvert_exporter": "python",
   "pygments_lexer": "ipython3",
   "version": "3.8.5"
  }
 },
 "nbformat": 4,
 "nbformat_minor": 4
}
