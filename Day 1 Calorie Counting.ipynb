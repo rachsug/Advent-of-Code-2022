{
 "cells": [
  {
   "cell_type": "code",
   "execution_count": 55,
   "metadata": {},
   "outputs": [
    {
     "data": {
      "text/plain": [
       "208191"
      ]
     },
     "execution_count": 55,
     "metadata": {},
     "output_type": "execute_result"
    }
   ],
   "source": [
    "def find_max_calories(txt_file):\n",
    "    txt_file = 'AOC_day1_input.txt'\n",
    "    max_calories = 0\n",
    "    count_calories = 0\n",
    "    max_3_calories = []\n",
    "    \n",
    "    with open(txt_file) as f:\n",
    "        calories = f.readlines()\n",
    "        \n",
    "    for i in range(len(calories)):\n",
    "        if calories[i] == '\\n':\n",
    "            max_3_calories.append(count_calories)\n",
    "            count_calories = 0\n",
    "            continue\n",
    "            \n",
    "        count_calories += int(calories[i])\n",
    "    max_3_calories.sort()\n",
    "        \n",
    "    return sum(max_3_calories[len(max_3_calories)-3:])\n",
    "\n",
    "\n",
    "txt_file = 'AOC_day1_input.txt'\n",
    "find_max_calories(txt_file)"
   ]
  },
  {
   "cell_type": "code",
   "execution_count": null,
   "metadata": {},
   "outputs": [],
   "source": []
  },
  {
   "cell_type": "code",
   "execution_count": null,
   "metadata": {},
   "outputs": [],
   "source": []
  },
  {
   "cell_type": "code",
   "execution_count": null,
   "metadata": {},
   "outputs": [],
   "source": []
  }
 ],
 "metadata": {
  "kernelspec": {
   "display_name": "Python 3",
   "language": "python",
   "name": "python3"
  },
  "language_info": {
   "codemirror_mode": {
    "name": "ipython",
    "version": 3
   },
   "file_extension": ".py",
   "mimetype": "text/x-python",
   "name": "python",
   "nbconvert_exporter": "python",
   "pygments_lexer": "ipython3",
   "version": "3.8.5"
  }
 },
 "nbformat": 4,
 "nbformat_minor": 4
}
