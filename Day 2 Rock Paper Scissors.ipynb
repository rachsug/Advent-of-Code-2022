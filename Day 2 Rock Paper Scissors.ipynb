{
 "cells": [
  {
   "cell_type": "code",
   "execution_count": 124,
   "metadata": {},
   "outputs": [
    {
     "data": {
      "text/plain": [
       "11767"
      ]
     },
     "execution_count": 124,
     "metadata": {},
     "output_type": "execute_result"
    }
   ],
   "source": [
    "# In the first round, your opponent will choose Rock (A), and you should choose Paper (Y). This ends in a win for you with a score of 8 (2 because you chose Paper + 6 because you won).\n",
    "# In the second round, your opponent will choose Paper (B), and you should choose Rock (X). This ends in a loss for you with a score of 1 (1 + 0).\n",
    "# The third round is a draw with both players choosing Scissors, giving you a score of 3 + 3 = 6.\n",
    "\n",
    "# A, X- ROCK, B, Y - PAPER, C, Z - SCISSORS\n",
    "# ---------------SOLUTION_1----------------\n",
    "def rock_paper_scissors(txt_file):\n",
    "#     letters = {'A X': 4, 'A Y': 8, 'A Z': 7, 'B X': 1, 'B Y': 5, 'B Z': 9, 'C X': 1, 'C Y': 2, 'C Z': 6}\n",
    "    letters = {'A': 1, 'X': 1, 'B': 2, 'Y': 2, 'C': 3, 'Z': 3}\n",
    "    total_score = 0\n",
    "    \n",
    "    txt_file = 'AOC_day2_input.txt' \n",
    "    with open(txt_file) as f:\n",
    "        rounds = f.readlines()\n",
    "\n",
    "    for i in range(len(rounds)):\n",
    "        if (rounds[i][0] == 'A' and rounds[i][2] == 'Y') or (rounds[i][0] == 'B' and rounds[i][2] == 'Z') or (rounds[i][0] == 'C' and rounds[i][2] == 'X'):\n",
    "            total_score += 6 + letters[rounds[i][2]]\n",
    "        if (rounds[i][0] == 'A' and rounds[i][2] == 'Z') or (rounds[i][0] == 'B' and rounds[i][2] == 'X') or (rounds[i][0] == 'C' and rounds[i][2] == 'Y'):\n",
    "            total_score += letters[rounds[i][2]]\n",
    "        if (rounds[i][0] == 'A' and rounds[i][2] == 'X') or (rounds[i][0] == 'B' and rounds[i][2] == 'Y') or (rounds[i][0] == 'C' and rounds[i][2] == 'Z'):\n",
    "            total_score += 3 + letters[rounds[i][2]]\n",
    "    return total_score\n",
    "\n",
    "txt_file = 'AOC_day2_input.txt'\n",
    "rock_paper_scissors(txt_file)"
   ]
  },
  {
   "cell_type": "code",
   "execution_count": 141,
   "metadata": {},
   "outputs": [
    {
     "data": {
      "text/plain": [
       "13886"
      ]
     },
     "execution_count": 141,
     "metadata": {},
     "output_type": "execute_result"
    }
   ],
   "source": [
    "# --------------SOLUTION_2----------------\n",
    "def rock_paper_scissors(txt_file):\n",
    "    letters = {'A X\\n': 3, 'A Y\\n': 4, 'A Z\\n': 8, 'B X\\n': 1, 'B Y\\n': 5, 'B Z\\n': 9, 'C X\\n': 2, 'C Y\\n': 6, 'C Z\\n': 7}\n",
    "    total_score = 0\n",
    "    txt_file = 'AOC_day2_input.txt' \n",
    "    with open(txt_file) as f:\n",
    "        rounds = f.readlines()\n",
    "        \n",
    "# A, X- ROCK, B, Y - PAPER, C, Z - SCISSORS\n",
    "# X - lose, Y - draw, Z - win\n",
    "# A X -> ROCK LOSE -> ROCK SCISSORS -> A Z = 3\n",
    "# A Y -> ROCK DRAW -> ROCK ROCK -> A X = 4\n",
    "# A Z -> ROCK WIN -> ROCK PAPER -> A Y = 8\n",
    "# B X -> PAPER LOSE -> PAPER ROCK -> B X = 1\n",
    "# B Y -> PAPER DRAW -> PAPER PAPER -> B Y = 5\n",
    "# B Z -> PAPER WIN -> PAPER SCISSORS -> B Z = 9\n",
    "# C X -> SCISSORS LOSE -> SCISSORS PAPER -> C Y = 2\n",
    "# C Y -> SCISSORS DRAW -> SCISSORS SCISSORS -> C Z = 6\n",
    "# C Z -> SCISSORS WIN -> SCISSORS ROCK -> C X = 7\n",
    "    \n",
    "    for i in range(len(rounds)):\n",
    "        if rounds[i] == 'A X\\n':\n",
    "            total_score += letters[rounds[i]]\n",
    "        if rounds[i] == 'A Y\\n':\n",
    "            total_score += letters[rounds[i]]\n",
    "        if rounds[i] == 'A Z\\n':\n",
    "            total_score += letters[rounds[i]]\n",
    "        if rounds[i] == 'B X\\n':\n",
    "            total_score += letters[rounds[i]]\n",
    "        if rounds[i] == 'B Y\\n':\n",
    "            total_score += letters[rounds[i]]\n",
    "        if rounds[i] == 'B Z\\n':\n",
    "            total_score += letters[rounds[i]]\n",
    "        if rounds[i] == 'C X\\n':\n",
    "            total_score += letters[rounds[i]]\n",
    "        if rounds[i] == 'C Y\\n':\n",
    "            total_score += letters[rounds[i]]\n",
    "        if rounds[i] == 'C Z\\n':\n",
    "            total_score += letters[rounds[i]]\n",
    "\n",
    "    return total_score\n",
    "\n",
    "txt_file = 'AOC_day2_input.txt'\n",
    "rock_paper_scissors(txt_file)"
   ]
  }
 ],
 "metadata": {
  "kernelspec": {
   "display_name": "Python 3",
   "language": "python",
   "name": "python3"
  },
  "language_info": {
   "codemirror_mode": {
    "name": "ipython",
    "version": 3
   },
   "file_extension": ".py",
   "mimetype": "text/x-python",
   "name": "python",
   "nbconvert_exporter": "python",
   "pygments_lexer": "ipython3",
   "version": "3.8.5"
  }
 },
 "nbformat": 4,
 "nbformat_minor": 4
}
