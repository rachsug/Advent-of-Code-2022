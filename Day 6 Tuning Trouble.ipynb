{
 "cells": [
  {
   "cell_type": "code",
   "execution_count": 35,
   "metadata": {},
   "outputs": [
    {
     "data": {
      "text/plain": [
       "1723"
      ]
     },
     "execution_count": 35,
     "metadata": {},
     "output_type": "execute_result"
    }
   ],
   "source": [
    "def tuningTrouble(txt_file):\n",
    "    with open(txt_file) as f:\n",
    "        lines = f.readlines()\n",
    "\n",
    "    solution_1 = 4 #---------SOLUTION_1-----------\n",
    "    solution_2 = 14 #---------SOLUTION_2-----------\n",
    "    for i in range(len(lines[0])-solution_1-1):\n",
    "        if len(set(lines[0][i:i+solution_1])) == solution_1:\n",
    "            return i + solution_1\n",
    "\n",
    "txt_file = 'AOC_day6_input.txt'\n",
    "tuningTrouble(txt_file)"
   ]
  },
  {
   "cell_type": "code",
   "execution_count": 23,
   "metadata": {},
   "outputs": [
    {
     "name": "stdout",
     "output_type": "stream",
     "text": [
      "nppd\n",
      "ppdv\n",
      "pdvj\n",
      "6\n"
     ]
    }
   ],
   "source": [
    "s = 'nppdvjthqldpwncqszvftbrmjlhg'\n",
    "for i in range(len(s)-3):\n",
    "    print(s[i:i+4])\n",
    "    if len(set(s[i:i+4])) == 4:\n",
    "        print(i+4)\n",
    "        break\n",
    "        "
   ]
  },
  {
   "cell_type": "code",
   "execution_count": 12,
   "metadata": {},
   "outputs": [
    {
     "name": "stdout",
     "output_type": "stream",
     "text": [
      "4\n"
     ]
    }
   ],
   "source": [
    "print(len(set('abcd')))"
   ]
  }
 ],
 "metadata": {
  "kernelspec": {
   "display_name": "Python 3",
   "language": "python",
   "name": "python3"
  },
  "language_info": {
   "codemirror_mode": {
    "name": "ipython",
    "version": 3
   },
   "file_extension": ".py",
   "mimetype": "text/x-python",
   "name": "python",
   "nbconvert_exporter": "python",
   "pygments_lexer": "ipython3",
   "version": "3.8.5"
  }
 },
 "nbformat": 4,
 "nbformat_minor": 4
}
