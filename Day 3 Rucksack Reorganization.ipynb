{
 "cells": [
  {
   "cell_type": "code",
   "execution_count": 224,
   "metadata": {},
   "outputs": [
    {
     "data": {
      "text/plain": [
       "7793"
      ]
     },
     "execution_count": 224,
     "metadata": {},
     "output_type": "execute_result"
    }
   ],
   "source": [
    "#-------------SOLUTION_1--------------\n",
    "from collections import Counter\n",
    "def rucksackReorganization(txt_file):\n",
    "    total = 0\n",
    "    \n",
    "    txt_file = 'AOC_day3_input.txt'\n",
    "    with open(txt_file) as f:\n",
    "        lines = f.readlines()\n",
    "#     print(lines)\n",
    "#     print(lines[0][:len(lines[0])//2])\n",
    "#     print(lines[0][(len(lines[0])//2):])\n",
    "    for i in range(len(lines)):\n",
    "        lines[i] = lines[i].replace('\\n', '')\n",
    "#         print(lines[i][:len(lines[i])//2])\n",
    "        half1 = Counter(lines[i][:len(lines[i])//2])\n",
    "        half2 = Counter(lines[i][len(lines[i])//2:])\n",
    "        item = half1 & half2\n",
    "#         print(item.keys())\n",
    "        if list(item.keys())[0].isupper():\n",
    "            total += ord(list(item.keys())[0])%64+26\n",
    "        else:\n",
    "            total += ord(list(item.keys())[0])%96\n",
    "    return total\n",
    "\n",
    "txt_file = 'AOC_day3_input.txt'\n",
    "    \n",
    "rucksackReorganization(txt_file)"
   ]
  },
  {
   "cell_type": "code",
   "execution_count": 223,
   "metadata": {},
   "outputs": [
    {
     "data": {
      "text/plain": [
       "2499"
      ]
     },
     "execution_count": 223,
     "metadata": {},
     "output_type": "execute_result"
    }
   ],
   "source": [
    "#-------------SOLUTION_2--------------\n",
    "from collections import Counter\n",
    "def rucksackReorganization(txt_file):\n",
    "    total = 0\n",
    "    \n",
    "    txt_file = 'AOC_day3_input.txt'\n",
    "    with open(txt_file) as f:\n",
    "        lines = f.readlines()\n",
    "#     print(lines)\n",
    "#     print(lines[0][:len(lines[0])//2])\n",
    "#     print(lines[0][(len(lines[0])//2):])\n",
    "    for i in range(len(lines)):\n",
    "        lines[i] = lines[i].replace('\\n', '')\n",
    "    \n",
    "    for i in range(0, len(lines), 3):\n",
    "#         print(lines[i:i+1][0])\n",
    "#         print(lines[i+1:i+2])\n",
    "#         print(lines[i+2:i+3])\n",
    "        bag1 = Counter(lines[i:i+1][0])\n",
    "        bag2 = Counter(lines[i+1:i+2][0])\n",
    "        bag3 = Counter(lines[i+2:i+3][0])\n",
    "#         print(bag1, bag2, bag3)\n",
    "        item = bag1 & bag2 & bag3\n",
    "#         print(item.keys())\n",
    "        if list(item.keys())[0].isupper():\n",
    "            total += ord(list(item.keys())[0])%64+26\n",
    "        else:\n",
    "            total += ord(list(item.keys())[0])%96\n",
    "    return total\n",
    "\n",
    "txt_file = 'AOC_day3_input.txt'\n",
    "    \n",
    "rucksackReorganization(txt_file)"
   ]
  },
  {
   "cell_type": "code",
   "execution_count": 173,
   "metadata": {},
   "outputs": [
    {
     "name": "stdout",
     "output_type": "stream",
     "text": [
      "157\n"
     ]
    },
    {
     "data": {
      "text/plain": [
       "23"
      ]
     },
     "execution_count": 173,
     "metadata": {},
     "output_type": "execute_result"
    }
   ],
   "source": [
    "from collections import Counter\n",
    "def blah(s):\n",
    "    #print(first, second)\n",
    "    total = 0\n",
    "    common = []\n",
    "    a = 0\n",
    "    total_sum = 0\n",
    "    for i in range(len(s)):\n",
    "        s[i] = s[i].replace('\\n', '')\n",
    "        #print(s[i])\n",
    "#         print(s[i][:len(s[i])//2])\n",
    "#         print(s[i][len(s[i])//2:])\n",
    "        dict1 = Counter\n",
    "        dict2 = Counter(s[i][len(s[i])//2:])\n",
    "        a = dict1 & dict2\n",
    "        if list(a.keys())[0].isupper():\n",
    "            total_sum += ord(list(a.keys())[0])%64+26\n",
    "        else:\n",
    "            total_sum += ord(list(a.keys())[0])%96\n",
    "#         common += dict1 & dict2\n",
    "#     print(ord(list(a.keys())[0]))\n",
    "    print(total_sum)\n",
    "\n",
    "#     for i in range(len(common)):\n",
    "#         print(str(common[i]))\n",
    "#     for i in range(len(first)):\n",
    "#         for j in range(len(second)):\n",
    "#             if second[j] == first[i]:\n",
    "#                 print(second[j])\n",
    "#                 if second[j].isupper():\n",
    "#                     total += ord(second[j])%64 + 26\n",
    "\n",
    "#                 else:\n",
    "#                     total += ord(second[j])%96\n",
    "#                 return total\n",
    "    \n",
    "s = ['JrwpWtwJgWrhcsFMMfFFhFp\\n', 'jqHRNqRjqzjGDLGLrsFMfFZSrLrFZsSL\\n', 'PmmdzqPrVvPwwTWBwg\\n', 'wMqvLMZHhHMvwLHjbvcjnnSBnvTQFn\\n', 'ttgJtRGJQctTZtZT\\n', 'CrZsJsPPZsGzwwsLwLmpwMDw\\n']\n",
    "blah(s)\n",
    "            \n",
    "len('JrwpWtwJgWrhcsFMMfFFhFp')\n",
    "# p = ord('p')%96\n",
    "# L = ord('L')%64+26\n",
    "#print(p, L)"
   ]
  },
  {
   "cell_type": "code",
   "execution_count": 215,
   "metadata": {},
   "outputs": [
    {
     "name": "stdout",
     "output_type": "stream",
     "text": [
      "dict_keys(['r'])\n"
     ]
    }
   ],
   "source": [
    "from collections import Counter\n",
    "dict1 = Counter('vJrwpWtwJgWrhcsFMMfFFhFp')\n",
    "dict2 = Counter('jqHRNqRjqzjGDLGLrsFMfFZSrLrFZsSL')\n",
    "dict3 = Counter('PmmdzqPrVvPwwTWBwg')\n",
    "a = dict1 & dict2 & dict3\n",
    "print(a.keys())"
   ]
  },
  {
   "cell_type": "code",
   "execution_count": 196,
   "metadata": {},
   "outputs": [
    {
     "name": "stdout",
     "output_type": "stream",
     "text": [
      "[1, 1, 1]\n",
      "1\n",
      "[2, 2, 2]\n",
      "2\n",
      "[3, 3, 3]\n",
      "3\n",
      "[4, 5, 6]\n",
      "4\n"
     ]
    }
   ],
   "source": [
    "a = [1,1,1,2,2,2,3,3,3,4,5,6]\n",
    "for i in range(0, len(a), 3):\n",
    "    b = a[i:i+3]\n",
    "    print(b)\n",
    "    print(a[i])"
   ]
  }
 ],
 "metadata": {
  "kernelspec": {
   "display_name": "Python 3",
   "language": "python",
   "name": "python3"
  },
  "language_info": {
   "codemirror_mode": {
    "name": "ipython",
    "version": 3
   },
   "file_extension": ".py",
   "mimetype": "text/x-python",
   "name": "python",
   "nbconvert_exporter": "python",
   "pygments_lexer": "ipython3",
   "version": "3.8.5"
  }
 },
 "nbformat": 4,
 "nbformat_minor": 4
}
